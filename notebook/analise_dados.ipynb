{
 "cells": [
  {
   "cell_type": "code",
   "execution_count": 4,
   "id": "6f44117f-795b-48f6-a0da-2bf5b1a4519a",
   "metadata": {},
   "outputs": [],
   "source": [
    "import pandas as pd"
   ]
  },
  {
   "cell_type": "markdown",
   "id": "46f75c06-bef0-4c26-ac08-e5bcdfa37bc8",
   "metadata": {},
   "source": [
    "Calculate the quantity of each model:"
   ]
  },
  {
   "cell_type": "code",
   "execution_count": 2,
   "id": "0a8503b6-30af-4239-9a57-a157938ab66d",
   "metadata": {},
   "outputs": [
    {
     "name": "stdout",
     "output_type": "stream",
     "text": [
      "marca\n",
      "FIAT          66\n",
      "VOLKSWAGEN    35\n",
      "HYUNDAI       30\n",
      "CHEVROLET     10\n",
      "RENAULT        9\n",
      "CITROEN        6\n",
      "JEEP           4\n",
      "TOYOTA         3\n",
      "PEUGEOT        2\n",
      "CHERY          2\n",
      "MITSUBISHI     2\n",
      "FORD           1\n",
      "VOLVO          1\n",
      "Name: count, dtype: int64\n"
     ]
    }
   ],
   "source": [
    "df_day1 = pd.read_csv('day1_171.csv')\n",
    "quantidade_por_marca = df_day1['marca'].value_counts()\n",
    "print(quantidade_por_marca)"
   ]
  },
  {
   "cell_type": "markdown",
   "id": "d3824a64-65bb-47fa-a212-57cf63d54f93",
   "metadata": {},
   "source": [
    "Number of cars: by brand and day"
   ]
  },
  {
   "cell_type": "code",
   "execution_count": 3,
   "id": "7de9e34d-954d-4ea8-91e7-bb1c1af4ed80",
   "metadata": {},
   "outputs": [
    {
     "name": "stdout",
     "output_type": "stream",
     "text": [
      "           FIAT VOLKSWAGEN HYUNDAI RENAULT CHEVROLET CITROEN JEEP TOYOTA  \\\n",
      "26/02/2024   66         35      30       9        10       6    4      3   \n",
      "27/02/2024   49         32      19       9         9       5    3      2   \n",
      "28/02/2024   48         30      17       8         8       5    4      2   \n",
      "29/02/2024   49         33      18       8         8       5    4      2   \n",
      "01/03/2024   52         34      18       9         9       6    4      2   \n",
      "02/03/2024   54         34      18       9         9       6    3      2   \n",
      "03/03/2024   54         32      17       9         9       6    3      2   \n",
      "04/03/2024   54         32      17       9         9       6    3      2   \n",
      "05/03/2024   55         33      20       9        10       6    4      2   \n",
      "06/03/2024   55         35      19      10        10       6    4      2   \n",
      "07/03/2024   55         36      22      11         9       6    4      1   \n",
      "08/03/2024   61         40      26      11         8       6    6      1   \n",
      "09/03/2024   65         38      25      11         8       7    5      1   \n",
      "10/03/2024   64         37      24      11         8       6    5      1   \n",
      "11/03/2024   66         36      25      12         8       7    6      2   \n",
      "12/03/2024   67         36      22      12        11       6    6      2   \n",
      "13/03/2024   70         35      22      15        12       6    6      2   \n",
      "14/03/2024   71         33      23      13        10       6    5      3   \n",
      "15/03/2024   70         31      23      13        10       6    3      4   \n",
      "16/03/2024   62         27      17      12         6       6    4      2   \n",
      "\n",
      "           CHERY PEUGEOT  \n",
      "26/02/2024     2       2  \n",
      "27/02/2024     2       0  \n",
      "28/02/2024     2       0  \n",
      "29/02/2024     2       1  \n",
      "01/03/2024     3       1  \n",
      "02/03/2024     3       1  \n",
      "03/03/2024     3       1  \n",
      "04/03/2024     3       2  \n",
      "05/03/2024     2       1  \n",
      "06/03/2024     2       0  \n",
      "07/03/2024     2       0  \n",
      "08/03/2024     2       0  \n",
      "09/03/2024     2       0  \n",
      "10/03/2024     2       0  \n",
      "11/03/2024     3       2  \n",
      "12/03/2024     1       2  \n",
      "13/03/2024     2       4  \n",
      "14/03/2024     1       3  \n",
      "15/03/2024     1       3  \n",
      "16/03/2024     2       3  \n"
     ]
    }
   ],
   "source": [
    "df_day1 = pd.read_csv('day1_171.csv')\n",
    "df_day2 = pd.read_csv('day2_134.csv')\n",
    "df_day3 = pd.read_csv('day3_128.csv')\n",
    "df_day4 = pd.read_csv('day4_133.csv')\n",
    "df_day5 = pd.read_csv('day5_141.csv')\n",
    "df_day6 = pd.read_csv('day6_142.csv')\n",
    "df_day7 = pd.read_csv('day7_139.csv')\n",
    "df_day8 = pd.read_csv('day8_140.csv')\n",
    "df_day9 = pd.read_csv('day9_144.csv')\n",
    "df_day10 = pd.read_csv('day10_147.csv')\n",
    "df_day11 = pd.read_csv('day11_150.csv')\n",
    "df_day12 = pd.read_csv('day12_165.csv')\n",
    "df_day13 = pd.read_csv('day13_166.csv')\n",
    "df_day14 = pd.read_csv('day14_162.csv')\n",
    "df_day15 = pd.read_csv('day15_171.csv')\n",
    "df_day16 = pd.read_csv('day16_168.csv')\n",
    "df_day17 = pd.read_csv('day17_177.csv')\n",
    "df_day18 = pd.read_csv('day18_171.csv')\n",
    "df_day19 = pd.read_csv('day19_167.csv')\n",
    "df_day20 = pd.read_csv('day20_144.csv')\n",
    "# Listar todos os DataFrames e datas correspondentes\n",
    "dataframes = [df_day1, df_day2, df_day3, df_day4, df_day5, df_day6, df_day7, df_day8, df_day9,df_day10, df_day11,df_day12,df_day13,df_day14,df_day15,df_day16,df_day17,df_day18,df_day19,df_day20 ]\n",
    "datas = ['26/02/2024', '27/02/2024', '28/02/2024', '29/02/2024', '01/03/2024', '02/03/2024', '03/03/2024', '04/03/2024', '05/03/2024', '06/03/2024', '07/03/2024','08/03/2024', '09/03/2024','10/03/2024', '11/03/2024', '12/03/2024', '13/03/2024', '14/03/2024', '15/03/2024','16/03/2024']\n",
    "\n",
    "# Listar TODAS as marcas:\n",
    "marcas = ['FIAT', 'VOLKSWAGEN', 'HYUNDAI', 'RENAULT', 'CHEVROLET', 'CITROEN', 'JEEP', 'TOYOTA', 'CHERY', 'PEUGEOT']\n",
    "\n",
    "# Criar um Df vazio:\n",
    "tabela_quantidade = pd.DataFrame(index=datas, columns=marcas)\n",
    "\n",
    "# Preencher o Df com a contagem de itens de cada marca para cada data:\n",
    "for i, df in enumerate(dataframes):\n",
    "    data = datas[i]\n",
    "    for marca in marcas:\n",
    "        quantidade = df[df['marca'] == marca].shape[0]\n",
    "        tabela_quantidade.at[data, marca] = quantidade\n",
    "\n",
    "# Preencher os valores ausentes com zeros:\n",
    "tabela_quantidade.fillna(0, inplace=True)\n",
    "\n",
    "# tabela final\n",
    "print(tabela_quantidade)\n"
   ]
  },
  {
   "cell_type": "markdown",
   "id": "a6739733-379c-4d80-9bdb-0e1c02fe0b6f",
   "metadata": {},
   "source": [
    "Save to excel and CSV file:"
   ]
  },
  {
   "cell_type": "code",
   "execution_count": null,
   "id": "4ced4545-8225-4ce9-a196-e68cad12fb29",
   "metadata": {},
   "outputs": [],
   "source": [
    "tabela_quantidade = tabela_quantidade.to_excel ('tabela_quantidade.xlsx')\n",
    "tabela_quantidade = tabela_quantidade.to_csv ('tabela_quantidade.csv')"
   ]
  }
 ],
 "metadata": {
  "kernelspec": {
   "display_name": "Python 3 (ipykernel)",
   "language": "python",
   "name": "python3"
  },
  "language_info": {
   "codemirror_mode": {
    "name": "ipython",
    "version": 3
   },
   "file_extension": ".py",
   "mimetype": "text/x-python",
   "name": "python",
   "nbconvert_exporter": "python",
   "pygments_lexer": "ipython3",
   "version": "3.11.8"
  }
 },
 "nbformat": 4,
 "nbformat_minor": 5
}
