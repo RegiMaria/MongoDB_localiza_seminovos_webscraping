{
 "cells": [
  {
   "cell_type": "code",
   "execution_count": null,
   "id": "aaad1152-fefc-497b-a01f-58dc030e0a96",
   "metadata": {},
   "outputs": [],
   "source": [
    "# Ler o arquivo CSV original\n",
    "df = pd.read_csv('day2_134.csv')\n",
    "\n",
    "# Remover as colunas 'data' e 'status'\n",
    "\n",
    "\n",
    "# Salvar o DataFrame em um novo arquivo CSV\n",
    "df.to_csv('df_day2_134.csv', index=False)\n",
    "\n",
    "# Mostrar DataFrame resultante\n",
    "print(df)"
   ]
  },
  {
   "cell_type": "code",
   "execution_count": null,
   "id": "0a846055-3260-45f7-8689-b3e387758c4f",
   "metadata": {},
   "outputs": [],
   "source": [
    "df = pd.read_csv('df_day2_134.csv')\n",
    "df = df.drop(columns=['data'])\n",
    "df.insert(loc=0, column='data', value='27/02/2024')\n",
    "df.to_csv('df_day2_134.csv', index=False)\n",
    "print (df)"
   ]
  },
  {
   "cell_type": "code",
   "execution_count": null,
   "id": "fe914baf-63e6-45a8-b368-9fd856738c5b",
   "metadata": {},
   "outputs": [],
   "source": [
    "#exclui data_hora coluna8:\n",
    "\n",
    "df_day3 = pd.read_csv('day3_128.csv')\n",
    "df_day3 = df_day3.drop(columns=['status'])\n",
    "df_day3.to_csv('day3_128.csv', index=False)"
   ]
  },
  {
   "cell_type": "code",
   "execution_count": null,
   "id": "7739b242-4524-42fd-9e1a-5a1f03e7986c",
   "metadata": {},
   "outputs": [],
   "source": [
    "df_day1 = pd.read_csv ('day1_171.csv')\n",
    "df_day2 = pd.read_csv ('day2_134.csv')\n",
    "df_day3 = pd.read_csv('day3_128.csv')\n",
    "df_day4 = pd.read_csv('day4_133.csv')\n",
    "df_day5 = pd.read_csv('day5_141.csv')\n",
    "df_day6 = pd.read_csv('day6_142.csv')\n",
    "df_day7 = pd.read_csv('day7_139.csv')\n",
    "df_day8 = pd.read_csv('day8_140.csv')\n",
    "df_day9 = pd.read_csv('day9_144.csv')\n",
    "df_day10 = pd.read_csv('day10_147.csv')\n",
    "df_day11 = pd.read_csv('day11_150.csv')\n",
    "df_day12 = pd.read_csv('day12_165.csv')\n",
    "df_day13 = pd.read_csv('day13_166.csv')\n",
    "df_day14 = pd.read_csv('day14_162.csv')\n",
    "df_day15 = pd.read_csv('day15_171.csv')\n",
    "df_day16 = pd.read_csv('day16_168.csv')\n",
    "df_day17 = pd.read_csv('day17_177.csv')\n",
    "df_day18 = pd.read_csv('day18_171.csv')\n",
    "df_day19 = pd.read_csv('day19_167.csv')\n",
    "df_day20 = pd.read_csv('day20_144.csv')\n",
    "\n",
    "#exclui coluna\n",
    "\n",
    "df_day1 = df_day1.drop(columns = ['cambio'])\n",
    "df_day2 = df_day2.drop(columns=['cambio'])\n",
    "df_day3 = df_day3.drop(columns=['cambio'])\n",
    "df_day4 = df_day4.drop(columns=['cambio'])\n",
    "df_day5 = df_day5.drop(columns=['cambio'])\n",
    "df_day6 = df_day6.drop(columns=['cambio'])\n",
    "df_day7 = df_day7.drop(columns=['cambio'])\n",
    "df_day8 = df_day8.drop(columns=['cambio'])\n",
    "df_day9 = df_day9.drop(columns=['cambio'])\n",
    "df_day10 = df_day10.drop(columns=['cambio'])\n",
    "df_day11 = df_day11.drop(columns=['cambio'])\n",
    "df_day12 = df_day12.drop(columns=['cambio'])\n",
    "df_day13 = df_day13.drop(columns=['cambio'])\n",
    "df_day14 = df_day14.drop(columns=['cambio'])\n",
    "df_day15 = df_day15.drop(columns=['cambio'])\n",
    "df_day16 = df_day16.drop(columns=['cambio'])\n",
    "df_day17 = df_day17.drop(columns=['cambio'])\n",
    "df_day18 = df_day18.drop(columns=['cambio'])\n",
    "df_day19 = df_day19.drop(columns=['cambio'])\n",
    "df_day20 = df_day20.drop(columns=['data'])\n",
    "\n",
    "#salva os novos df\n",
    "df_day1.to_csv('day1_171.csv', index=False)\n",
    "df_day2.to_csv('day2_134.csv', index=False)\n",
    "df_day3.to_csv('day3_128.csv', index=False)\n",
    "df_day4.to_csv('day4_133.csv', index=False)\n",
    "df_day5.to_csv('day5_141.csv', index=False)\n",
    "df_day6.to_csv('day6_142.csv', index=False)\n",
    "df_day7.to_csv('day7_139.csv', index=False)\n",
    "df_day8.to_csv('day8_140.csv', index=False)\n",
    "df_day9.to_csv('day9_144.csv', index=False)\n",
    "df_day10.to_csv('day10_147.csv', index=False)\n",
    "df_day11.to_csv('day11_150.csv', index=False)\n",
    "df_day12.to_csv('day12_165.csv', index=False)\n",
    "df_day13.to_csv('day13_166.csv', index=False)\n",
    "df_day14.to_csv('day14_162.csv', index=False)\n",
    "df_day15.to_csv('day15_171.csv', index=False)\n",
    "df_day16.to_csv('day16_168.csv', index=False)\n",
    "df_day17.to_csv('day17_177.csv', index=False)\n",
    "df_day18.to_csv('day18_171.csv', index=False)\n",
    "df_day19.to_csv('day19_167.csv', index=False)\n",
    "df_day20.to_csv('day20_144.csv', index=False)\n",
    "\n"
   ]
  }
 ],
 "metadata": {
  "kernelspec": {
   "display_name": "Python 3 (ipykernel)",
   "language": "python",
   "name": "python3"
  },
  "language_info": {
   "codemirror_mode": {
    "name": "ipython",
    "version": 3
   },
   "file_extension": ".py",
   "mimetype": "text/x-python",
   "name": "python",
   "nbconvert_exporter": "python",
   "pygments_lexer": "ipython3",
   "version": "3.11.5"
  }
 },
 "nbformat": 4,
 "nbformat_minor": 5
}
